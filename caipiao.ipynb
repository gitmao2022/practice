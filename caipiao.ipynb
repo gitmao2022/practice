{
 "cells": [
  {
   "cell_type": "code",
   "execution_count": 50,
   "metadata": {},
   "outputs": [],
   "source": [
    "import random\n",
    "init_totle_num=500000\n",
    "totle_num=init_totle_num\n",
    "ping_rate=0.3\n",
    "init_give_num=2\n",
    "win_beilv=3\n"
   ]
  },
  {
   "cell_type": "code",
   "execution_count": 51,
   "metadata": {},
   "outputs": [
    {
     "ename": "IndexError",
     "evalue": "list assignment index out of range",
     "output_type": "error",
     "traceback": [
      "\u001b[1;31m---------------------------------------------------------------------------\u001b[0m",
      "\u001b[1;31mIndexError\u001b[0m                                Traceback (most recent call last)",
      "Input \u001b[1;32mIn [51]\u001b[0m, in \u001b[0;36m<cell line: 4>\u001b[1;34m()\u001b[0m\n\u001b[0;32m      5\u001b[0m \u001b[38;5;28;01mfor\u001b[39;00m i \u001b[38;5;129;01min\u001b[39;00m \u001b[38;5;28mrange\u001b[39m(\u001b[38;5;241m1\u001b[39m,\u001b[38;5;241m100000\u001b[39m):\n\u001b[0;32m      6\u001b[0m     time\u001b[38;5;241m=\u001b[39m\u001b[38;5;241m1\u001b[39m\n\u001b[1;32m----> 8\u001b[0m     max_win[t\u001b[38;5;241m-\u001b[39m\u001b[38;5;241m1\u001b[39m]\u001b[38;5;241m=\u001b[39mtotle_num\u001b[38;5;241m-\u001b[39minit_totle_num\n\u001b[0;32m      9\u001b[0m     give_num\u001b[38;5;241m=\u001b[39minit_give_num\n\u001b[0;32m     10\u001b[0m     totle_num\u001b[38;5;241m=\u001b[39mtotle_num\u001b[38;5;241m-\u001b[39mgive_num\n",
      "\u001b[1;31mIndexError\u001b[0m: list assignment index out of range"
     ]
    }
   ],
   "source": [
    "lose_time=[100]\n",
    "play_time=[100]\n",
    "max_win=[100]\n",
    "for t in range(1,100):\n",
    "    for i in range(1,100000):\n",
    "        time=1\n",
    "        \n",
    "        max_win[t-1]=totle_num-init_totle_num\n",
    "        give_num=init_give_num\n",
    "        totle_num=totle_num-give_num\n",
    "        random_float = random.uniform(0, 1)\n",
    "        result='win' if random_float<ping_rate else \"lose\"\n",
    "        while result=='lose':\n",
    "            time+=1\n",
    "            give_num=give_num*2\n",
    "            totle_num-=give_num\n",
    "            \n",
    "            if totle_num<0:\n",
    "                break\n",
    "            random_float = random.uniform(0, 1)\n",
    "            result='win' if random_float<ping_rate else \"lose\"\n",
    "\n",
    "        if totle_num<0:\n",
    "            lose_time[t-1]=time+1\n",
    "            #print('you have no money',\"time=\",time)\n",
    "            play_time[t-1]=i\n",
    "            break\n",
    "        totle_num+=give_num*3\n",
    "        #print('you have win',totle_num-init_totle_num,\" time=\",time,\"这是第\",i,\"场\")\n",
    "print(\"你的本金是\",init_totle_num,\" 平局概率是\",ping_rate,\"按照平局倍投的方式，首次\\\n",
    "      投入2元，经过100次模拟运算，平均你在第\",mean(play_time),\"轮输掉全部金钱，按照每天投入2次计算\",\\\n",
    "      \"大概能玩\",sum(lose_time)/2/265,\"年\")\n",
    "\n"
   ]
  }
 ],
 "metadata": {
  "kernelspec": {
   "display_name": "base",
   "language": "python",
   "name": "python3"
  },
  "language_info": {
   "codemirror_mode": {
    "name": "ipython",
    "version": 3
   },
   "file_extension": ".py",
   "mimetype": "text/x-python",
   "name": "python",
   "nbconvert_exporter": "python",
   "pygments_lexer": "ipython3",
   "version": "3.9.12"
  }
 },
 "nbformat": 4,
 "nbformat_minor": 2
}
