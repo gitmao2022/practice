{
 "cells": [
  {
   "cell_type": "code",
   "execution_count": 4,
   "metadata": {},
   "outputs": [],
   "source": [
    "import numpy as np\n",
    "import logisticreg\n",
    "import matplotlib.pyplot as plt\n",
    "\n"
   ]
  },
  {
   "cell_type": "code",
   "execution_count": 7,
   "metadata": {},
   "outputs": [],
   "source": [
    "male_heights = np.random.normal(171, 6, 500)\n",
    "female_heights = np.random.normal(158, 5, 500)\n",
    "\n",
    "male_weights = np.random.normal(70, 10, 500)\n",
    "female_weights = np.random.normal(57, 8, 500)\n",
    "\n",
    "male_bfrs = np.random.normal(16, 2, 500)\n",
    "female_bfrs = np.random.normal(22, 2, 500)\n",
    "\n",
    "male_labels = [1] * 500\n",
    "female_labels = [0] * 500\n",
    "\n",
    "train_set = np.array([np.concatenate((male_heights, female_heights)),\n",
    "                      np.concatenate((male_weights, female_weights)),\n",
    "                      np.concatenate((male_bfrs, female_bfrs)),\n",
    "                      np.concatenate((male_labels, female_labels))]).T\n",
    "np.random.shuffle(train_set)\n"
   ]
  },
  {
   "cell_type": "code",
   "execution_count": 8,
   "metadata": {},
   "outputs": [
    {
     "ename": "NameError",
     "evalue": "name 'logisticreg' is not defined",
     "output_type": "error",
     "traceback": [
      "\u001b[1;31m---------------------------------------------------------------------------\u001b[0m",
      "\u001b[1;31mNameError\u001b[0m                                 Traceback (most recent call last)",
      "\u001b[1;32mf:\\222\\nemat\\logistic_reg\\logisticreg.ipynb 单元格 3\u001b[0m in \u001b[0;36m<cell line: 4>\u001b[1;34m()\u001b[0m\n\u001b[0;32m      <a href='vscode-notebook-cell:/f%3A/222/nemat/logistic_reg/logisticreg.ipynb#W2sZmlsZQ%3D%3D?line=1'>2</a>\u001b[0m learn_rate\u001b[39m=\u001b[39m\u001b[39m0.005\u001b[39m\n\u001b[0;32m      <a href='vscode-notebook-cell:/f%3A/222/nemat/logistic_reg/logisticreg.ipynb#W2sZmlsZQ%3D%3D?line=2'>3</a>\u001b[0m Theta\u001b[39m=\u001b[39mnp\u001b[39m.\u001b[39mzeros(\u001b[39mlen\u001b[39m(train_set[\u001b[39m0\u001b[39m])\u001b[39m-\u001b[39m\u001b[39m1\u001b[39m,dtype\u001b[39m=\u001b[39mnp\u001b[39m.\u001b[39mfloat64)\n\u001b[1;32m----> <a href='vscode-notebook-cell:/f%3A/222/nemat/logistic_reg/logisticreg.ipynb#W2sZmlsZQ%3D%3D?line=3'>4</a>\u001b[0m lr\u001b[39m=\u001b[39mlogisticreg\u001b[39m.\u001b[39mlogisticreg(train_set[:,:\u001b[39m-\u001b[39m\u001b[39m1\u001b[39m], train_set[:,\u001b[39m-\u001b[39m\u001b[39m1\u001b[39m], learn_rate, iter_times, Theta)\n\u001b[0;32m      <a href='vscode-notebook-cell:/f%3A/222/nemat/logistic_reg/logisticreg.ipynb#W2sZmlsZQ%3D%3D?line=4'>5</a>\u001b[0m Theta\u001b[39m=\u001b[39mlr\u001b[39m.\u001b[39mupdate_wb()\n\u001b[0;32m      <a href='vscode-notebook-cell:/f%3A/222/nemat/logistic_reg/logisticreg.ipynb#W2sZmlsZQ%3D%3D?line=5'>6</a>\u001b[0m Theta\n",
      "\u001b[1;31mNameError\u001b[0m: name 'logisticreg' is not defined"
     ]
    }
   ],
   "source": [
    "\n",
    "iter_times=50\n",
    "learn_rate=0.005\n",
    "Theta=np.zeros(len(train_set[0])-1,dtype=np.float64)\n",
    "lr=logisticreg.logisticreg(train_set[:,:-1], train_set[:,-1], learn_rate, iter_times, Theta)\n",
    "Theta=lr.update_wb()\n",
    "Theta\n"
   ]
  },
  {
   "cell_type": "code",
   "execution_count": null,
   "metadata": {},
   "outputs": [],
   "source": [
    "pred=[]\n",
    "for i in range(len(train_set)):\n",
    "    features =npas.sigmoid(np.dot(train_set[i, :-1],Theta))\n",
    "    \n",
    "    print(features)\n",
    "    '''\n",
    "    if features>=0.5:pred.append(1)\n",
    "    else:pred.append(-1)\n",
    "\n",
    "accuracy = (train_set[:, -1] == pred).astype(np.int).sum() / len(train_set)\n",
    "\n",
    "print(\"accuracy: {:.3f}\".format(accuracy))\n",
    "'''"
   ]
  }
 ],
 "metadata": {
  "kernelspec": {
   "display_name": "Python 3.7.0 ('base')",
   "language": "python",
   "name": "python3"
  },
  "language_info": {
   "codemirror_mode": {
    "name": "ipython",
    "version": 3
   },
   "file_extension": ".py",
   "mimetype": "text/x-python",
   "name": "python",
   "nbconvert_exporter": "python",
   "pygments_lexer": "ipython3",
   "version": "3.9.12"
  },
  "orig_nbformat": 4,
  "vscode": {
   "interpreter": {
    "hash": "ad2bdc8ecc057115af97d19610ffacc2b4e99fae6737bb82f5d7fb13d2f2c186"
   }
  }
 },
 "nbformat": 4,
 "nbformat_minor": 2
}
