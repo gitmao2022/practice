{
 "cells": [
  {
   "cell_type": "code",
   "execution_count": 1,
   "metadata": {},
   "outputs": [],
   "source": [
    "import numpy as np\n",
    "import linerreg\n",
    "import npas\n",
    "import matplotlib.pyplot as plt\n"
   ]
  },
  {
   "cell_type": "code",
   "execution_count": 2,
   "metadata": {},
   "outputs": [],
   "source": [
    "X = np.random.randint(low=1, high=20, size=[100, 5])\n",
    "X_train=X[0:50,:]\n",
    "X_test=X[51:,:]\n",
    "X_train_t=npas.linerreg_feature_scaling(X_train,modle='standard')\n",
    "X_test_t=npas.linerreg_feature_scaling(X_test,modle='standard')\n",
    "#print(X_train_t)\n",
    "\n",
    "X=npas.add_right_ones(X)\n",
    "X_train_t=npas.add_right_ones(X_train_t)\n",
    "X_test_t=npas.add_right_ones(X_test_t)\n",
    "#X,X_train_t,X_test_t"
   ]
  },
  {
   "cell_type": "code",
   "execution_count": 2,
   "metadata": {},
   "outputs": [
    {
     "name": "stderr",
     "output_type": "stream",
     "text": [
      "f:\\py\\nemat\\npas.py:56: RuntimeWarning: invalid value encountered in true_divide\n",
      "  Ans = (Ans - mean) / std\n"
     ]
    }
   ],
   "source": [
    "#先在最右侧加入1，再进行特征缩放\n",
    "X = np.random.randint(low=1, high=20, size=[100, 5])\n",
    "X_train=X[0:50,:]\n",
    "X_test=X[51:,:]\n",
    "X=npas.add_right_ones(X)\n",
    "X_train=npas.add_right_ones(X_train)\n",
    "X_test=npas.add_right_ones(X_test)\n",
    "X_train_t=npas.linerreg_feature_scaling(X_train,modle='standard')\n",
    "X_test_t=npas.linerreg_feature_scaling(X_test,modle='standard')\n",
    "\n",
    "#X,X_train_t,X_test_t"
   ]
  },
  {
   "cell_type": "code",
   "execution_count": 3,
   "metadata": {},
   "outputs": [],
   "source": [
    "Theta = np.array([2, 4, 230, 7, 150, 30000], dtype=float)\n",
    "Y_true = np.dot(X, Theta)\n",
    "learn_rate = 0.001\n",
    "iter_times = 120000\n",
    "Init_theta = np.array([0, 0, 0, 0, 0, 0], dtype=float)\n",
    "test = linerreg.Linerreg(X_train_t, Y_true[:50], learn_rate, iter_times, Init_theta)\n",
    "Theta_predict=test.update_wb()\n",
    "\n",
    "#test.calc_derivatives()"
   ]
  },
  {
   "cell_type": "code",
   "execution_count": 4,
   "metadata": {},
   "outputs": [
    {
     "name": "stdout",
     "output_type": "stream",
     "text": [
      "Y真实值是： [30840. 34579. 30946. 32921. 31686. 33624. 33404. 37260. 30798. 33092.\n",
      " 32687. 34953. 35434. 31558. 33527. 34703. 35395. 34442. 33153. 34433.\n",
      " 36733. 34236. 32213. 33229. 33810. 35572. 32520. 31252. 34349. 33771.\n",
      " 31385. 35695. 33013. 33483. 32722. 32249. 35126. 31799. 34760. 33194.\n",
      " 36383. 35766. 35896. 34247. 34338. 31695. 32795. 35047. 33754.]\n",
      "Y预测值是： [31009.48 35078.15 31108.66 33344.96 31897.08 34081.43 33815.75 38034.58\n",
      " 30964.28 33475.15 33012.02 35527.84 35980.3  31814.13 33897.33 35261.76\n",
      " 35987.85 34922.29 33512.22 34872.73 37423.54 34681.45 32544.6  33584.48\n",
      " 34222.17 36155.06 32866.06 31431.09 34815.87 34240.86 31625.18 36281.11\n",
      " 33411.39 33897.81 33107.32 32521.06 35715.95 32025.17 35281.36 33568.58\n",
      " 37038.55 36413.7  36565.19 34709.42 34841.01 31926.89 33095.57 35566.09\n",
      " 34182.23]\n"
     ]
    }
   ],
   "source": [
    "Y_test_predict=np.round(np.dot(X_test_t,Theta_predict),2)\n",
    "print(\"Y真实值是：\",Y_true[51:])\n",
    "print(\"Y预测值是：\",Y_test_predict)\n"
   ]
  },
  {
   "cell_type": "code",
   "execution_count": null,
   "metadata": {},
   "outputs": [],
   "source": []
  },
  {
   "cell_type": "code",
   "execution_count": null,
   "metadata": {},
   "outputs": [],
   "source": [
    "plt.plot(Y_true[51:], color='blue')\n",
    "plt.plot(Y_test_predict, color='red')\n",
    "\n",
    "\n",
    "# 显示图像\n",
    "plt.show()"
   ]
  }
 ],
 "metadata": {
  "kernelspec": {
   "display_name": "base",
   "language": "python",
   "name": "python3"
  },
  "language_info": {
   "codemirror_mode": {
    "name": "ipython",
    "version": 3
   },
   "file_extension": ".py",
   "mimetype": "text/x-python",
   "name": "python",
   "nbconvert_exporter": "python",
   "pygments_lexer": "ipython3",
   "version": "3.7.0"
  },
  "orig_nbformat": 4
 },
 "nbformat": 4,
 "nbformat_minor": 2
}
