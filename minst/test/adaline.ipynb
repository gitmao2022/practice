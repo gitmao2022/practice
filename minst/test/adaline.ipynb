{
 "cells": [
  {
   "cell_type": "code",
   "execution_count": 1,
   "id": "71970bc9",
   "metadata": {},
   "outputs": [
    {
     "name": "stdout",
     "output_type": "stream",
     "text": [
      "['f:\\\\py\\\\nemat\\\\minst\\\\test', 'c:\\\\Users\\\\Administrator\\\\anaconda3\\\\python312.zip', 'c:\\\\Users\\\\Administrator\\\\anaconda3\\\\DLLs', 'c:\\\\Users\\\\Administrator\\\\anaconda3\\\\Lib', 'c:\\\\Users\\\\Administrator\\\\anaconda3', '', 'c:\\\\Users\\\\Administrator\\\\anaconda3\\\\Lib\\\\site-packages', 'c:\\\\Users\\\\Administrator\\\\anaconda3\\\\Lib\\\\site-packages\\\\win32', 'c:\\\\Users\\\\Administrator\\\\anaconda3\\\\Lib\\\\site-packages\\\\win32\\\\lib', 'c:\\\\Users\\\\Administrator\\\\anaconda3\\\\Lib\\\\site-packages\\\\Pythonwin', 'c:\\\\Users\\\\Administrator\\\\anaconda3\\\\Lib\\\\site-packages\\\\setuptools\\\\_vendor', '../..', 'f:\\\\py\\\\nemat\\\\minst\\\\test']\n"
     ]
    }
   ],
   "source": [
    "import sys\n",
    "sys.path.append('../..')\n",
    "import os\n",
    "sys.path.append(os.getcwd())\n",
    "import numpy as np\n",
    "from minst.core import *\n",
    "print(sys.path)"
   ]
  },
  {
   "cell_type": "code",
   "execution_count": 2,
   "id": "83a002ba",
   "metadata": {},
   "outputs": [
    {
     "data": {
      "text/plain": [
       "array([[167.23538765,  60.73903323,  20.32274359,  -1.        ],\n",
       "       [170.42638314,  57.44198182,  19.56637244,   1.        ],\n",
       "       [147.4547613 ,  63.24510176,  23.62773432,  -1.        ],\n",
       "       ...,\n",
       "       [164.55271904,  53.98244422,  23.44890777,  -1.        ],\n",
       "       [163.36799996,  70.22057214,  19.15884125,  -1.        ],\n",
       "       [172.65341811,  66.76300295,  15.54057268,   1.        ]])"
      ]
     },
     "execution_count": 2,
     "metadata": {},
     "output_type": "execute_result"
    }
   ],
   "source": [
    "male_heights = np.random.normal(171, 6, 500)\n",
    "female_heights = np.random.normal(158, 5, 500)\n",
    "\n",
    "male_weights = np.random.normal(70, 10, 500)\n",
    "female_weights = np.random.normal(57, 8, 500)\n",
    "\n",
    "male_bfrs = np.random.normal(16, 2, 500)\n",
    "female_bfrs = np.random.normal(22, 2, 500)\n",
    "\n",
    "male_labels = [1] * 500\n",
    "female_labels = [-1] * 500\n",
    "\n",
    "train_set = np.array([np.concatenate((male_heights, female_heights)),\n",
    "                      np.concatenate((male_weights, female_weights)),\n",
    "                      np.concatenate((male_bfrs, female_bfrs)),\n",
    "                      np.concatenate((male_labels, female_labels))]).T\n",
    "np.random.shuffle(train_set)\n",
    "train_set\n"
   ]
  },
  {
   "cell_type": "code",
   "execution_count": 10,
   "id": "89f3ecc6",
   "metadata": {},
   "outputs": [
    {
     "name": "stdout",
     "output_type": "stream",
     "text": [
      "[[167.23538765  60.73903323  20.32274359]\n",
      " [170.42638314  57.44198182  19.56637244]\n",
      " [147.4547613   63.24510176  23.62773432]\n",
      " ...\n",
      " [164.55271904  53.98244422  23.44890777]\n",
      " [163.36799996  70.22057214  19.15884125]\n",
      " [172.65341811  66.76300295  15.54057268]] [[ 0.0011607 ]\n",
      " [-0.00159247]\n",
      " [-0.00052664]]\n"
     ]
    }
   ],
   "source": [
    "batch_length = len(train_set)\n",
    "# 构造计算图：输入向量，是一个100x1矩阵，不需要初始化，不参与训练\n",
    "x =variable_node.Variable(dim=(batch_length, 3), init=False, trainable=False)\n",
    "x.value = train_set[:, 0:3]\n",
    "# 类别标签，1男，-1女\n",
    "label =variable_node.Variable(dim=(batch_length, 1), init=False, trainable=False)\n",
    "label.value = train_set[:, -1]\n",
    "# print(label.value)\n",
    "# print(x.value)\n",
    "\n",
    "# 权重向量，是一个1x3矩阵，需要初始化，参与训练\n",
    "w =variable_node.Variable(dim=(3, 1), init=True, trainable=True)\n",
    "\n",
    "# 阈值，是一个1x1矩阵，需要初始化，参与训练\n",
    "b =variable_node.Variable(dim=(1, 1), init=True, trainable=True)\n",
    "print(x.value,w.value)"
   ]
  },
  {
   "cell_type": "code",
   "execution_count": 11,
   "id": "ec84dacd",
   "metadata": {},
   "outputs": [
    {
     "name": "stdout",
     "output_type": "stream",
     "text": [
      "None\n"
     ]
    }
   ],
   "source": [
    "# 构造计算图：xw是一个100x1矩阵，表示输入向量与权重向量的乘积，参与训练\n",
    "xw=operate_node.MatMul(x, w)  \n",
    "print(xw.value)\n",
    "output = operate_node.Add(xw, b)\n",
    "output.value"
   ]
  },
  {
   "cell_type": "code",
   "execution_count": 5,
   "id": "26ec9dd6",
   "metadata": {},
   "outputs": [
    {
     "ename": "AttributeError",
     "evalue": "'NoneType' object has no attribute 'T'",
     "output_type": "error",
     "traceback": [
      "\u001b[1;31m---------------------------------------------------------------------------\u001b[0m",
      "\u001b[1;31mAttributeError\u001b[0m                            Traceback (most recent call last)",
      "Cell \u001b[1;32mIn[5], line 5\u001b[0m\n\u001b[0;32m      1\u001b[0m predict \u001b[38;5;241m=\u001b[39m activity_node\u001b[38;5;241m.\u001b[39mStep(output)\n\u001b[0;32m      3\u001b[0m \u001b[38;5;66;03m# 损失函数\u001b[39;00m\n\u001b[0;32m      4\u001b[0m \u001b[38;5;66;03m#loss = ms.ops.loss.PerceptionLoss(ms.ops.MatMul(label, output))\u001b[39;00m\n\u001b[1;32m----> 5\u001b[0m output\u001b[38;5;241m.\u001b[39mvalue\u001b[38;5;241m=\u001b[39moutput\u001b[38;5;241m.\u001b[39mvalue\u001b[38;5;241m.\u001b[39mT\n\u001b[0;32m      6\u001b[0m loss\u001b[38;5;241m=\u001b[39mloss_node\u001b[38;5;241m.\u001b[39mLogLoss(operate_node\u001b[38;5;241m.\u001b[39mMatMul(label, output))\n\u001b[0;32m      7\u001b[0m default_graph \u001b[38;5;241m=\u001b[39m graph\u001b[38;5;241m.\u001b[39mdefault_graph\n",
      "\u001b[1;31mAttributeError\u001b[0m: 'NoneType' object has no attribute 'T'"
     ]
    }
   ],
   "source": [
    "\n",
    "predict = activity_node.Step(output)\n",
    "\n",
    "# 损失函数\n",
    "#loss = ms.ops.loss.PerceptionLoss(ms.ops.MatMul(label, output))\n",
    "output.value=output.value.T\n",
    "loss=loss_node.LogLoss(operate_node.MatMul(label, output))\n",
    "default_graph = graph.default_graph\n",
    "loss.forward()\n",
    "print(\"loss:\", loss.value)"
   ]
  },
  {
   "cell_type": "code",
   "execution_count": null,
   "id": "b749b936",
   "metadata": {},
   "outputs": [],
   "source": []
  },
  {
   "cell_type": "code",
   "execution_count": null,
   "id": "424ddf3a",
   "metadata": {},
   "outputs": [],
   "source": [
    "\n",
    "        # 在loss节点上执行前向传播，计算损失值\n",
    "        loss.forward()\n",
    "        print(\"这是第\",epoch+1,\"轮向前传播的结果，以下是各节点的值：\")\n",
    "        for n in default_graph.nodes:\n",
    "            print(n.node_name, \":\", n.value)\n",
    "\n",
    "        # 在w和b节点上执行反向传播，计算损失值对它们的雅可比矩阵\n",
    "        w.backward(loss)\n",
    "        b.backward(loss)\n",
    "\n",
    "        w.set_value(w.value - learning_rate * w.jacobi)\n",
    "        b.set_value(b.value - learning_rate * b.jacobi)\n",
    "        print('现在是执行了反向传播后的各节点的值：')\n",
    "        for n in default_graph.nodes:\n",
    "            print(n.node_name, \":\", n.value)\n",
    "        # default_graph对象保存了所有节点，调用clear_jacobi方法清除所有节点的雅可比矩阵\n",
    "        default_graph.clear_jacobi()\n",
    "\n",
    "    # 每个epoch结束后评价模型的正确率\n",
    "    pred = []\n",
    "\n",
    "    # 遍历训练集，计算当前模型对每个样本的预测值\n",
    "    for i in range(len(train_set)):\n",
    "        \n",
    "        features = np.mat(train_set[i, :-1]).T\n",
    "        x.set_value(features)\n",
    "\n",
    "        # 在模型的predict节点上执行前向传播\n",
    "        predict.forward()\n",
    "        pred.append(predict.value[0, 0])  # 模型的预测结果：1男，0女\n",
    "\n",
    "    pred = np.array(pred) * 2 - 1  # 将1/0结果转化成1/-1结果，好与训练标签的约定一致\n",
    "\n",
    "    # 判断预测结果与样本标签相同的数量与训练集总数量之比，即模型预测的正确率\n",
    "    accuracy = (train_set[:, -1] == pred).astype(np.int32).sum() / len(train_set)\n",
    "\n",
    "    # 打印当前epoch数和模型在训练集上的正确率\n",
    "    print(\"epoch: {:d}, accuracy: {:.3f}\".format(epoch + 1, accuracy))\n",
    "    \n",
    "    \n",
    "    \n"
   ]
  }
 ],
 "metadata": {
  "kernelspec": {
   "display_name": "base",
   "language": "python",
   "name": "python3"
  },
  "language_info": {
   "codemirror_mode": {
    "name": "ipython",
    "version": 3
   },
   "file_extension": ".py",
   "mimetype": "text/x-python",
   "name": "python",
   "nbconvert_exporter": "python",
   "pygments_lexer": "ipython3",
   "version": "3.12.7"
  }
 },
 "nbformat": 4,
 "nbformat_minor": 5
}
