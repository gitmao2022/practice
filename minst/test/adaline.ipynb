{
 "cells": [
  {
   "cell_type": "code",
   "execution_count": 1,
   "id": "71970bc9",
   "metadata": {},
   "outputs": [],
   "source": [
    "import sys\n",
    "sys.path.append('../..')\n",
    "import os\n",
    "sys.path.append(os.getcwd())\n",
    "import numpy as np\n",
    "from minst.core import *"
   ]
  },
  {
   "cell_type": "code",
   "execution_count": null,
   "id": "83a002ba",
   "metadata": {},
   "outputs": [],
   "source": [
    "male_heights = np.random.normal(171, 6, 500)\n",
    "female_heights = np.random.normal(158, 5, 500)\n",
    "\n",
    "male_weights = np.random.normal(70, 10, 500)\n",
    "female_weights = np.random.normal(57, 8, 500)\n",
    "\n",
    "male_bfrs = np.random.normal(16, 2, 500)\n",
    "female_bfrs = np.random.normal(22, 2, 500)\n",
    "\n",
    "male_labels = [1] * 500\n",
    "female_labels = [-1] * 500\n",
    "\n",
    "train_set = np.array([np.concatenate((male_heights, female_heights)),\n",
    "                      np.concatenate((male_weights, female_weights)),\n",
    "                      np.concatenate((male_bfrs, female_bfrs)),\n",
    "                      np.concatenate((male_labels, female_labels))]).T\n",
    "np.random.shuffle(train_set)\n",
    "\n"
   ]
  },
  {
   "cell_type": "code",
   "execution_count": null,
   "id": "89f3ecc6",
   "metadata": {},
   "outputs": [],
   "source": [
    "batch_length = len(train_set)\n",
    "# 构造计算图：输入向量，是一个100x1矩阵，不需要初始化，不参与训练\n",
    "x =variable_node.Variable(dim=(batch_length, 3), init=False, trainable=False)\n",
    "x.value = train_set[:, 0:3]\n",
    "# 类别标签，1男，-1女\n",
    "label =variable_node.Variable(dim=(batch_length, 1), init=False, trainable=False)\n",
    "label.set_value(train_set[:, -1])\n",
    "# print(label.value)\n",
    "# print(x.value)\n",
    "\n",
    "# 权重向量，是一个1x3矩阵，需要初始化，参与训练\n",
    "w =variable_node.Variable(dim=(3, 1), init=True, trainable=True)\n",
    "\n",
    "# 阈值，是一个1x1矩阵，需要初始化，参与训练\n",
    "b =variable_node.Variable(dim=(1, 1), init=True, trainable=True)\n"
   ]
  },
  {
   "cell_type": "code",
   "execution_count": null,
   "id": "ec84dacd",
   "metadata": {},
   "outputs": [],
   "source": [
    "# 构造计算图：xw是一个100x1矩阵，表示输入向量与权重向量的乘积，参与训练\n",
    "xw=operate_node.MatMul(x, w)  \n",
    "output = operate_node.Add(xw, b)\n"
   ]
  },
  {
   "cell_type": "code",
   "execution_count": null,
   "id": "26ec9dd6",
   "metadata": {},
   "outputs": [],
   "source": [
    "\n",
    "predict = activity_node.Step(output)\n",
    "\n",
    "# 损失函数\n",
    "#loss = ms.ops.loss.PerceptionLoss(ms.ops.MatMul(label, output))\n",
    "output.value=output.value.T\n",
    "loss=loss_node.LogLoss(operate_node.MatMul(label, output))\n",
    "default_graph = graph.default_graph\n",
    "loss.forward()\n",
    "print(\"loss:\", loss.value)\n"
   ]
  },
  {
   "cell_type": "code",
   "execution_count": 5,
   "id": "b749b936",
   "metadata": {},
   "outputs": [
    {
     "name": "stdout",
     "output_type": "stream",
     "text": [
      "3.7200759760208555e-44\n"
     ]
    }
   ],
   "source": [
    "import numpy as np\n",
    "label=np.array([[1], [0], [1]])\n",
    "result=np.array([[0.9], [0.5], [0.8]])\n",
    "# -label*np.log(result)-(1-label)*np.log(1-result)\n",
    "print (1/(1+np.power(np.e,100)))"
   ]
  }
 ],
 "metadata": {
  "kernelspec": {
   "display_name": "base",
   "language": "python",
   "name": "python3"
  },
  "language_info": {
   "codemirror_mode": {
    "name": "ipython",
    "version": 3
   },
   "file_extension": ".py",
   "mimetype": "text/x-python",
   "name": "python",
   "nbconvert_exporter": "python",
   "pygments_lexer": "ipython3",
   "version": "3.12.7"
  }
 },
 "nbformat": 4,
 "nbformat_minor": 5
}
