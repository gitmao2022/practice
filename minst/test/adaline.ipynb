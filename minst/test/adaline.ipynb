{
 "cells": [
  {
   "cell_type": "code",
   "execution_count": 1,
   "id": "71970bc9",
   "metadata": {},
   "outputs": [
    {
     "name": "stdout",
     "output_type": "stream",
     "text": [
      "['f:\\\\py\\\\nemat\\\\minst\\\\test', 'c:\\\\Users\\\\Administrator\\\\anaconda3\\\\python312.zip', 'c:\\\\Users\\\\Administrator\\\\anaconda3\\\\DLLs', 'c:\\\\Users\\\\Administrator\\\\anaconda3\\\\Lib', 'c:\\\\Users\\\\Administrator\\\\anaconda3', '', 'c:\\\\Users\\\\Administrator\\\\anaconda3\\\\Lib\\\\site-packages', 'c:\\\\Users\\\\Administrator\\\\anaconda3\\\\Lib\\\\site-packages\\\\win32', 'c:\\\\Users\\\\Administrator\\\\anaconda3\\\\Lib\\\\site-packages\\\\win32\\\\lib', 'c:\\\\Users\\\\Administrator\\\\anaconda3\\\\Lib\\\\site-packages\\\\Pythonwin', 'c:\\\\Users\\\\Administrator\\\\anaconda3\\\\Lib\\\\site-packages\\\\setuptools\\\\_vendor', '../..', 'f:\\\\py\\\\nemat\\\\minst\\\\test']\n"
     ]
    }
   ],
   "source": [
    "import sys\n",
    "sys.path.append('../..')\n",
    "import os\n",
    "sys.path.append(os.getcwd())\n",
    "import numpy as np\n",
    "from minst.core import *\n",
    "print(sys.path)"
   ]
  },
  {
   "cell_type": "code",
   "execution_count": 3,
   "id": "83a002ba",
   "metadata": {},
   "outputs": [
    {
     "data": {
      "text/plain": [
       "array([[158.39710378,  60.12990234,  22.11829737,  -1.        ],\n",
       "       [177.88102297,  75.69865014,  15.50669663,   1.        ],\n",
       "       [152.29418039,  65.39281002,  22.4906656 ,  -1.        ],\n",
       "       ...,\n",
       "       [158.60690725,  53.65230958,  22.11866882,  -1.        ],\n",
       "       [156.33758185,  61.04992094,  22.08290241,  -1.        ],\n",
       "       [164.84556803,  52.49498398,  21.09489023,  -1.        ]])"
      ]
     },
     "execution_count": 3,
     "metadata": {},
     "output_type": "execute_result"
    }
   ],
   "source": [
    "male_heights = np.random.normal(171, 6, 500)\n",
    "female_heights = np.random.normal(158, 5, 500)\n",
    "\n",
    "male_weights = np.random.normal(70, 10, 500)\n",
    "female_weights = np.random.normal(57, 8, 500)\n",
    "\n",
    "male_bfrs = np.random.normal(16, 2, 500)\n",
    "female_bfrs = np.random.normal(22, 2, 500)\n",
    "\n",
    "male_labels = [1] * 500\n",
    "female_labels = [-1] * 500\n",
    "\n",
    "train_set = np.array([np.concatenate((male_heights, female_heights)),\n",
    "                      np.concatenate((male_weights, female_weights)),\n",
    "                      np.concatenate((male_bfrs, female_bfrs)),\n",
    "                      np.concatenate((male_labels, female_labels))]).T\n",
    "np.random.shuffle(train_set)\n",
    "train_set\n"
   ]
  },
  {
   "cell_type": "code",
   "execution_count": null,
   "id": "58f8d668",
   "metadata": {},
   "outputs": [],
   "source": [
    "for epoch in range(200):\n",
    "    \n",
    "    \n",
    "    \n"
   ]
  }
 ],
 "metadata": {
  "kernelspec": {
   "display_name": "base",
   "language": "python",
   "name": "python3"
  },
  "language_info": {
   "codemirror_mode": {
    "name": "ipython",
    "version": 3
   },
   "file_extension": ".py",
   "mimetype": "text/x-python",
   "name": "python",
   "nbconvert_exporter": "python",
   "pygments_lexer": "ipython3",
   "version": "3.12.7"
  }
 },
 "nbformat": 4,
 "nbformat_minor": 5
}
