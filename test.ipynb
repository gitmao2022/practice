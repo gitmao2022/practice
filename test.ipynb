{
 "cells": [
  {
   "cell_type": "code",
   "execution_count": 11,
   "metadata": {},
   "outputs": [],
   "source": [
    "import numpy as np\n",
    "import linerreg\n",
    "import npas\n",
    "import matplotlib.pyplot as plt\n"
   ]
  },
  {
   "cell_type": "code",
   "execution_count": 2,
   "metadata": {},
   "outputs": [
    {
     "data": {
      "text/plain": [
       "(array([[ 9, 16, 14, 18, 15,  1],\n",
       "        [10, 15,  7, 10,  7,  1],\n",
       "        [ 7, 18, 11,  4,  7,  1],\n",
       "        [11, 15,  3, 17, 13,  1],\n",
       "        [ 6,  4,  3,  2, 11,  1],\n",
       "        [11,  3, 16, 19, 11,  1],\n",
       "        [10, 16, 16, 12,  9,  1],\n",
       "        [ 8, 12, 11, 19,  8,  1],\n",
       "        [ 4,  8, 10,  2,  4,  1],\n",
       "        [ 9, 16, 13,  3, 16,  1],\n",
       "        [11, 15, 19, 11,  8,  1],\n",
       "        [13,  9,  7, 17,  6,  1],\n",
       "        [10, 15, 13, 18, 10,  1],\n",
       "        [15,  5, 14, 18,  7,  1],\n",
       "        [ 8, 10, 17,  3, 17,  1],\n",
       "        [ 4,  8,  6, 19, 11,  1],\n",
       "        [ 1,  6,  4, 11, 14,  1],\n",
       "        [19,  5,  7, 12,  6,  1],\n",
       "        [11, 19, 13,  2, 11,  1],\n",
       "        [10,  9,  2, 13, 19,  1]]),\n",
       " array([[0.71, 0.87, 0.85, 0.94, 0.92, 1.  ],\n",
       "        [0.86, 0.8 , 0.31, 0.47, 0.25, 1.  ],\n",
       "        [0.43, 1.  , 0.62, 0.12, 0.25, 1.  ],\n",
       "        [1.  , 0.8 , 0.  , 0.88, 0.75, 1.  ],\n",
       "        [0.29, 0.07, 0.  , 0.  , 0.58, 1.  ],\n",
       "        [1.  , 0.  , 1.  , 1.  , 0.58, 1.  ],\n",
       "        [0.86, 0.87, 1.  , 0.59, 0.42, 1.  ],\n",
       "        [0.57, 0.6 , 0.62, 1.  , 0.33, 1.  ],\n",
       "        [0.  , 0.33, 0.54, 0.  , 0.  , 1.  ],\n",
       "        [0.71, 0.87, 0.77, 0.06, 1.  , 1.  ]], dtype=float16),\n",
       " array([[0.67, 0.29, 0.33, 0.88, 0.  , 1.  ],\n",
       "        [0.5 , 0.71, 0.73, 0.94, 0.31, 1.  ],\n",
       "        [0.78, 0.  , 0.8 , 0.94, 0.08, 1.  ],\n",
       "        [0.39, 0.36, 1.  , 0.06, 0.85, 1.  ],\n",
       "        [0.17, 0.21, 0.27, 1.  , 0.38, 1.  ],\n",
       "        [0.  , 0.07, 0.13, 0.53, 0.62, 1.  ],\n",
       "        [1.  , 0.  , 0.33, 0.59, 0.  , 1.  ],\n",
       "        [0.56, 1.  , 0.73, 0.  , 0.38, 1.  ],\n",
       "        [0.5 , 0.29, 0.  , 0.65, 1.  , 1.  ]], dtype=float16))"
      ]
     },
     "execution_count": 2,
     "metadata": {},
     "output_type": "execute_result"
    }
   ],
   "source": [
    "X = np.random.randint(low=1, high=20, size=[20, 5])\n",
    "X_train=X[0:10,:]\n",
    "X_test=X[11:,:]\n",
    "X_train_t=npas.linerreg_feature_scaling(X_train)\n",
    "X_test_t=npas.linerreg_feature_scaling(X_test)\n",
    "X=npas.add_right_ones(X)\n",
    "X_train_t=npas.add_right_ones(X_train_t)\n",
    "X_test_t=npas.add_right_ones(X_test_t)\n",
    "#X,X_train_t,X_test_t"
   ]
  },
  {
   "cell_type": "code",
   "execution_count": 17,
   "metadata": {},
   "outputs": [
    {
     "data": {
      "text/plain": [
       "array([ 0.04641073, -0.00896028,  0.00243222, -0.02406287, -0.01874066,\n",
       "       -0.00406254])"
      ]
     },
     "execution_count": 17,
     "metadata": {},
     "output_type": "execute_result"
    }
   ],
   "source": [
    "Theta = np.array([2, 4, 23, 7, 14, 3], dtype=float)\n",
    "Y_true = np.dot(X, Theta)\n",
    "learn_rate = 0.005\n",
    "iter_times = 30000\n",
    "Init_theta = np.array([0, 0, 0, 0, 0, 0], dtype=float)\n",
    "test = linerreg.Linerreg(X_train_t, Y_true[:10], learn_rate, iter_times, Init_theta)\n",
    "Theta_predict=test.update_wb()\n",
    "test.calc_derivatives()"
   ]
  },
  {
   "cell_type": "code",
   "execution_count": 18,
   "metadata": {},
   "outputs": [
    {
     "name": "stdout",
     "output_type": "stream",
     "text": [
      "Y真实值是： [429. 648. 599. 709. 468. 394. 390. 568. 462.]\n",
      "Y预测值是： [392.41 591.95 538.15 637.33 438.84 370.97 347.31 510.99 431.23]\n"
     ]
    }
   ],
   "source": [
    "Y_test_predict=np.round(np.dot(X_test_t,Theta_predict),2)\n",
    "print(\"Y真实值是：\",Y_true[11:])\n",
    "print(\"Y预测值是：\",Y_test_predict)\n"
   ]
  },
  {
   "cell_type": "code",
   "execution_count": 19,
   "metadata": {},
   "outputs": [
    {
     "data": {
      "image/png": "[encoded data removed]",
      "text/plain": [
       "<Figure size 432x288 with 1 Axes>"
      ]
     },
     "metadata": {
      "needs_background": "light"
     },
     "output_type": "display_data"
    }
   ],
   "source": [
    "plt.plot(Y_true[11:], color='blue')\n",
    "plt.plot(Y_test_predict, color='red')\n",
    "\n",
    "\n",
    "# 显示图像\n",
    "plt.show()"
   ]
  }
 ],
 "metadata": {
  "kernelspec": {
   "display_name": "base",
   "language": "python",
   "name": "python3"
  },
  "language_info": {
   "codemirror_mode": {
    "name": "ipython",
    "version": 3
   },
   "file_extension": ".py",
   "mimetype": "text/x-python",
   "name": "python",
   "nbconvert_exporter": "python",
   "pygments_lexer": "ipython3",
   "version": "3.9.12"
  },
  "orig_nbformat": 4
 },
 "nbformat": 4,
 "nbformat_minor": 2
}
